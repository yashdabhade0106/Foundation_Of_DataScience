{
 "cells": [
  {
   "cell_type": "code",
   "execution_count": 2,
   "id": "dc91a315",
   "metadata": {},
   "outputs": [],
   "source": [
    "import pandas as pd"
   ]
  },
  {
   "cell_type": "code",
   "execution_count": 7,
   "id": "1721f21b",
   "metadata": {},
   "outputs": [],
   "source": [
    "df = pd.read_csv(\"employee_dataset.csv\")  # loading the dataset"
   ]
  },
  {
   "cell_type": "code",
   "execution_count": 9,
   "id": "9edd52e4",
   "metadata": {},
   "outputs": [
    {
     "name": "stdout",
     "output_type": "stream",
     "text": [
      "   EmpID        Name  Age  Gender Department   Salary JoiningDate  \\\n",
      "0      1  Employee_1   50  Female      Sales  90000.0  2015-01-01   \n",
      "1      2  Employee_2   36    Male    Finance  62500.0  2015-01-02   \n",
      "2      3  Employee_3   29    Male    Finance  39500.0  2015-01-03   \n",
      "3      4  Employee_4   42    Male      Sales  35000.0  2015-01-04   \n",
      "4      5  Employee_5   40    Male    Finance  41500.0  2015-01-05   \n",
      "\n",
      "   PerformanceScore  WorkHours  \n",
      "0               3.0       43.0  \n",
      "1               2.0       54.0  \n",
      "2               1.0       54.0  \n",
      "3               4.0       37.0  \n",
      "4               4.0       37.0  \n"
     ]
    }
   ],
   "source": [
    "print(df.head())"
   ]
  },
  {
   "cell_type": "code",
   "execution_count": 10,
   "id": "552312a3",
   "metadata": {},
   "outputs": [
    {
     "data": {
      "text/plain": [
       "EmpID                 0\n",
       "Name                  0\n",
       "Age                   0\n",
       "Gender                0\n",
       "Department            0\n",
       "Salary                5\n",
       "JoiningDate           0\n",
       "PerformanceScore    177\n",
       "WorkHours            37\n",
       "dtype: int64"
      ]
     },
     "execution_count": 10,
     "metadata": {},
     "output_type": "execute_result"
    }
   ],
   "source": [
    "df.isnull().sum()              # check missing values"
   ]
  },
  {
   "cell_type": "code",
   "execution_count": 25,
   "id": "6819415c",
   "metadata": {},
   "outputs": [],
   "source": [
    "# Method 1: Only fill NaN in numeric columns\n",
    "df.fillna(df.select_dtypes(include='number').mean(), inplace=True)\n"
   ]
  },
  {
   "cell_type": "code",
   "execution_count": 26,
   "id": "c742dd3e",
   "metadata": {},
   "outputs": [
    {
     "data": {
      "text/html": [
       "<div>\n",
       "<style scoped>\n",
       "    .dataframe tbody tr th:only-of-type {\n",
       "        vertical-align: middle;\n",
       "    }\n",
       "\n",
       "    .dataframe tbody tr th {\n",
       "        vertical-align: top;\n",
       "    }\n",
       "\n",
       "    .dataframe thead th {\n",
       "        text-align: right;\n",
       "    }\n",
       "</style>\n",
       "<table border=\"1\" class=\"dataframe\">\n",
       "  <thead>\n",
       "    <tr style=\"text-align: right;\">\n",
       "      <th></th>\n",
       "      <th>EmpID</th>\n",
       "      <th>Name</th>\n",
       "      <th>Age</th>\n",
       "      <th>Gender</th>\n",
       "      <th>Department</th>\n",
       "      <th>Salary</th>\n",
       "      <th>JoiningDate</th>\n",
       "      <th>PerformanceScore</th>\n",
       "      <th>WorkHours</th>\n",
       "    </tr>\n",
       "  </thead>\n",
       "  <tbody>\n",
       "    <tr>\n",
       "      <th>0</th>\n",
       "      <td>1</td>\n",
       "      <td>Employee_1</td>\n",
       "      <td>50</td>\n",
       "      <td>Female</td>\n",
       "      <td>Sales</td>\n",
       "      <td>90000.0</td>\n",
       "      <td>2015-01-01</td>\n",
       "      <td>3.0</td>\n",
       "      <td>43.0</td>\n",
       "    </tr>\n",
       "    <tr>\n",
       "      <th>1</th>\n",
       "      <td>2</td>\n",
       "      <td>Employee_2</td>\n",
       "      <td>36</td>\n",
       "      <td>Male</td>\n",
       "      <td>Finance</td>\n",
       "      <td>62500.0</td>\n",
       "      <td>2015-01-02</td>\n",
       "      <td>2.0</td>\n",
       "      <td>54.0</td>\n",
       "    </tr>\n",
       "    <tr>\n",
       "      <th>2</th>\n",
       "      <td>3</td>\n",
       "      <td>Employee_3</td>\n",
       "      <td>29</td>\n",
       "      <td>Male</td>\n",
       "      <td>Finance</td>\n",
       "      <td>39500.0</td>\n",
       "      <td>2015-01-03</td>\n",
       "      <td>1.0</td>\n",
       "      <td>54.0</td>\n",
       "    </tr>\n",
       "    <tr>\n",
       "      <th>3</th>\n",
       "      <td>4</td>\n",
       "      <td>Employee_4</td>\n",
       "      <td>42</td>\n",
       "      <td>Male</td>\n",
       "      <td>Sales</td>\n",
       "      <td>35000.0</td>\n",
       "      <td>2015-01-04</td>\n",
       "      <td>4.0</td>\n",
       "      <td>37.0</td>\n",
       "    </tr>\n",
       "    <tr>\n",
       "      <th>4</th>\n",
       "      <td>5</td>\n",
       "      <td>Employee_5</td>\n",
       "      <td>40</td>\n",
       "      <td>Male</td>\n",
       "      <td>Finance</td>\n",
       "      <td>41500.0</td>\n",
       "      <td>2015-01-05</td>\n",
       "      <td>4.0</td>\n",
       "      <td>37.0</td>\n",
       "    </tr>\n",
       "    <tr>\n",
       "      <th>...</th>\n",
       "      <td>...</td>\n",
       "      <td>...</td>\n",
       "      <td>...</td>\n",
       "      <td>...</td>\n",
       "      <td>...</td>\n",
       "      <td>...</td>\n",
       "      <td>...</td>\n",
       "      <td>...</td>\n",
       "      <td>...</td>\n",
       "    </tr>\n",
       "    <tr>\n",
       "      <th>995</th>\n",
       "      <td>996</td>\n",
       "      <td>Employee_996</td>\n",
       "      <td>34</td>\n",
       "      <td>Female</td>\n",
       "      <td>HR</td>\n",
       "      <td>31000.0</td>\n",
       "      <td>2017-09-22</td>\n",
       "      <td>2.0</td>\n",
       "      <td>36.0</td>\n",
       "    </tr>\n",
       "    <tr>\n",
       "      <th>996</th>\n",
       "      <td>997</td>\n",
       "      <td>Employee_997</td>\n",
       "      <td>51</td>\n",
       "      <td>Female</td>\n",
       "      <td>IT</td>\n",
       "      <td>56500.0</td>\n",
       "      <td>2017-09-23</td>\n",
       "      <td>1.0</td>\n",
       "      <td>44.0</td>\n",
       "    </tr>\n",
       "    <tr>\n",
       "      <th>997</th>\n",
       "      <td>998</td>\n",
       "      <td>Employee_998</td>\n",
       "      <td>44</td>\n",
       "      <td>Male</td>\n",
       "      <td>Finance</td>\n",
       "      <td>98000.0</td>\n",
       "      <td>2017-09-24</td>\n",
       "      <td>4.0</td>\n",
       "      <td>51.0</td>\n",
       "    </tr>\n",
       "    <tr>\n",
       "      <th>998</th>\n",
       "      <td>999</td>\n",
       "      <td>Employee_999</td>\n",
       "      <td>40</td>\n",
       "      <td>Female</td>\n",
       "      <td>Sales</td>\n",
       "      <td>64500.0</td>\n",
       "      <td>2017-09-25</td>\n",
       "      <td>1.0</td>\n",
       "      <td>53.0</td>\n",
       "    </tr>\n",
       "    <tr>\n",
       "      <th>999</th>\n",
       "      <td>1000</td>\n",
       "      <td>Employee_1000</td>\n",
       "      <td>53</td>\n",
       "      <td>Female</td>\n",
       "      <td>Sales</td>\n",
       "      <td>86000.0</td>\n",
       "      <td>2017-09-26</td>\n",
       "      <td>5.0</td>\n",
       "      <td>40.0</td>\n",
       "    </tr>\n",
       "  </tbody>\n",
       "</table>\n",
       "<p>1000 rows × 9 columns</p>\n",
       "</div>"
      ],
      "text/plain": [
       "     EmpID           Name  Age  Gender Department   Salary JoiningDate  \\\n",
       "0        1     Employee_1   50  Female      Sales  90000.0  2015-01-01   \n",
       "1        2     Employee_2   36    Male    Finance  62500.0  2015-01-02   \n",
       "2        3     Employee_3   29    Male    Finance  39500.0  2015-01-03   \n",
       "3        4     Employee_4   42    Male      Sales  35000.0  2015-01-04   \n",
       "4        5     Employee_5   40    Male    Finance  41500.0  2015-01-05   \n",
       "..     ...            ...  ...     ...        ...      ...         ...   \n",
       "995    996   Employee_996   34  Female         HR  31000.0  2017-09-22   \n",
       "996    997   Employee_997   51  Female         IT  56500.0  2017-09-23   \n",
       "997    998   Employee_998   44    Male    Finance  98000.0  2017-09-24   \n",
       "998    999   Employee_999   40  Female      Sales  64500.0  2017-09-25   \n",
       "999   1000  Employee_1000   53  Female      Sales  86000.0  2017-09-26   \n",
       "\n",
       "     PerformanceScore  WorkHours  \n",
       "0                 3.0       43.0  \n",
       "1                 2.0       54.0  \n",
       "2                 1.0       54.0  \n",
       "3                 4.0       37.0  \n",
       "4                 4.0       37.0  \n",
       "..                ...        ...  \n",
       "995               2.0       36.0  \n",
       "996               1.0       44.0  \n",
       "997               4.0       51.0  \n",
       "998               1.0       53.0  \n",
       "999               5.0       40.0  \n",
       "\n",
       "[1000 rows x 9 columns]"
      ]
     },
     "execution_count": 26,
     "metadata": {},
     "output_type": "execute_result"
    }
   ],
   "source": [
    "df.dropna()                   # drop rows with NaN"
   ]
  },
  {
   "cell_type": "code",
   "execution_count": 27,
   "id": "51937545",
   "metadata": {},
   "outputs": [
    {
     "data": {
      "text/plain": [
       "EmpID               0\n",
       "Name                0\n",
       "Age                 0\n",
       "Gender              0\n",
       "Department          0\n",
       "Salary              0\n",
       "JoiningDate         0\n",
       "PerformanceScore    0\n",
       "WorkHours           0\n",
       "dtype: int64"
      ]
     },
     "execution_count": 27,
     "metadata": {},
     "output_type": "execute_result"
    }
   ],
   "source": [
    "df.isnull().sum()              # check missing values"
   ]
  },
  {
   "cell_type": "code",
   "execution_count": 28,
   "id": "f457b3d6",
   "metadata": {},
   "outputs": [],
   "source": [
    "df.fillna(0, inplace=True)     # fill NaN with 0"
   ]
  },
  {
   "cell_type": "code",
   "execution_count": 38,
   "id": "7cf2bc08",
   "metadata": {},
   "outputs": [
    {
     "data": {
      "text/html": [
       "<div>\n",
       "<style scoped>\n",
       "    .dataframe tbody tr th:only-of-type {\n",
       "        vertical-align: middle;\n",
       "    }\n",
       "\n",
       "    .dataframe tbody tr th {\n",
       "        vertical-align: top;\n",
       "    }\n",
       "\n",
       "    .dataframe thead th {\n",
       "        text-align: right;\n",
       "    }\n",
       "</style>\n",
       "<table border=\"1\" class=\"dataframe\">\n",
       "  <thead>\n",
       "    <tr style=\"text-align: right;\">\n",
       "      <th></th>\n",
       "      <th>EmpID</th>\n",
       "      <th>Name</th>\n",
       "      <th>Age</th>\n",
       "      <th>Gender</th>\n",
       "      <th>Department</th>\n",
       "      <th>Salary</th>\n",
       "      <th>JoiningDate</th>\n",
       "      <th>PerformanceScore</th>\n",
       "      <th>WorkHours</th>\n",
       "    </tr>\n",
       "  </thead>\n",
       "  <tbody>\n",
       "    <tr>\n",
       "      <th>0</th>\n",
       "      <td>1</td>\n",
       "      <td>Employee_1</td>\n",
       "      <td>50</td>\n",
       "      <td>Female</td>\n",
       "      <td>Sales</td>\n",
       "      <td>90000.0</td>\n",
       "      <td>2015-01-01</td>\n",
       "      <td>3.0</td>\n",
       "      <td>43.0</td>\n",
       "    </tr>\n",
       "    <tr>\n",
       "      <th>1</th>\n",
       "      <td>2</td>\n",
       "      <td>Employee_2</td>\n",
       "      <td>36</td>\n",
       "      <td>Male</td>\n",
       "      <td>Finance</td>\n",
       "      <td>62500.0</td>\n",
       "      <td>2015-01-02</td>\n",
       "      <td>2.0</td>\n",
       "      <td>54.0</td>\n",
       "    </tr>\n",
       "    <tr>\n",
       "      <th>2</th>\n",
       "      <td>3</td>\n",
       "      <td>Employee_3</td>\n",
       "      <td>29</td>\n",
       "      <td>Male</td>\n",
       "      <td>Finance</td>\n",
       "      <td>39500.0</td>\n",
       "      <td>2015-01-03</td>\n",
       "      <td>1.0</td>\n",
       "      <td>54.0</td>\n",
       "    </tr>\n",
       "    <tr>\n",
       "      <th>3</th>\n",
       "      <td>4</td>\n",
       "      <td>Employee_4</td>\n",
       "      <td>42</td>\n",
       "      <td>Male</td>\n",
       "      <td>Sales</td>\n",
       "      <td>35000.0</td>\n",
       "      <td>2015-01-04</td>\n",
       "      <td>4.0</td>\n",
       "      <td>37.0</td>\n",
       "    </tr>\n",
       "    <tr>\n",
       "      <th>4</th>\n",
       "      <td>5</td>\n",
       "      <td>Employee_5</td>\n",
       "      <td>40</td>\n",
       "      <td>Male</td>\n",
       "      <td>Finance</td>\n",
       "      <td>41500.0</td>\n",
       "      <td>2015-01-05</td>\n",
       "      <td>4.0</td>\n",
       "      <td>37.0</td>\n",
       "    </tr>\n",
       "    <tr>\n",
       "      <th>...</th>\n",
       "      <td>...</td>\n",
       "      <td>...</td>\n",
       "      <td>...</td>\n",
       "      <td>...</td>\n",
       "      <td>...</td>\n",
       "      <td>...</td>\n",
       "      <td>...</td>\n",
       "      <td>...</td>\n",
       "      <td>...</td>\n",
       "    </tr>\n",
       "    <tr>\n",
       "      <th>995</th>\n",
       "      <td>996</td>\n",
       "      <td>Employee_996</td>\n",
       "      <td>34</td>\n",
       "      <td>Female</td>\n",
       "      <td>HR</td>\n",
       "      <td>31000.0</td>\n",
       "      <td>2017-09-22</td>\n",
       "      <td>2.0</td>\n",
       "      <td>36.0</td>\n",
       "    </tr>\n",
       "    <tr>\n",
       "      <th>996</th>\n",
       "      <td>997</td>\n",
       "      <td>Employee_997</td>\n",
       "      <td>51</td>\n",
       "      <td>Female</td>\n",
       "      <td>IT</td>\n",
       "      <td>56500.0</td>\n",
       "      <td>2017-09-23</td>\n",
       "      <td>1.0</td>\n",
       "      <td>44.0</td>\n",
       "    </tr>\n",
       "    <tr>\n",
       "      <th>997</th>\n",
       "      <td>998</td>\n",
       "      <td>Employee_998</td>\n",
       "      <td>44</td>\n",
       "      <td>Male</td>\n",
       "      <td>Finance</td>\n",
       "      <td>98000.0</td>\n",
       "      <td>2017-09-24</td>\n",
       "      <td>4.0</td>\n",
       "      <td>51.0</td>\n",
       "    </tr>\n",
       "    <tr>\n",
       "      <th>998</th>\n",
       "      <td>999</td>\n",
       "      <td>Employee_999</td>\n",
       "      <td>40</td>\n",
       "      <td>Female</td>\n",
       "      <td>Sales</td>\n",
       "      <td>64500.0</td>\n",
       "      <td>2017-09-25</td>\n",
       "      <td>1.0</td>\n",
       "      <td>53.0</td>\n",
       "    </tr>\n",
       "    <tr>\n",
       "      <th>999</th>\n",
       "      <td>1000</td>\n",
       "      <td>Employee_1000</td>\n",
       "      <td>53</td>\n",
       "      <td>Female</td>\n",
       "      <td>Sales</td>\n",
       "      <td>86000.0</td>\n",
       "      <td>2017-09-26</td>\n",
       "      <td>5.0</td>\n",
       "      <td>40.0</td>\n",
       "    </tr>\n",
       "  </tbody>\n",
       "</table>\n",
       "<p>1000 rows × 9 columns</p>\n",
       "</div>"
      ],
      "text/plain": [
       "     EmpID           Name  Age  Gender Department   Salary JoiningDate  \\\n",
       "0        1     Employee_1   50  Female      Sales  90000.0  2015-01-01   \n",
       "1        2     Employee_2   36    Male    Finance  62500.0  2015-01-02   \n",
       "2        3     Employee_3   29    Male    Finance  39500.0  2015-01-03   \n",
       "3        4     Employee_4   42    Male      Sales  35000.0  2015-01-04   \n",
       "4        5     Employee_5   40    Male    Finance  41500.0  2015-01-05   \n",
       "..     ...            ...  ...     ...        ...      ...         ...   \n",
       "995    996   Employee_996   34  Female         HR  31000.0  2017-09-22   \n",
       "996    997   Employee_997   51  Female         IT  56500.0  2017-09-23   \n",
       "997    998   Employee_998   44    Male    Finance  98000.0  2017-09-24   \n",
       "998    999   Employee_999   40  Female      Sales  64500.0  2017-09-25   \n",
       "999   1000  Employee_1000   53  Female      Sales  86000.0  2017-09-26   \n",
       "\n",
       "     PerformanceScore  WorkHours  \n",
       "0                 3.0       43.0  \n",
       "1                 2.0       54.0  \n",
       "2                 1.0       54.0  \n",
       "3                 4.0       37.0  \n",
       "4                 4.0       37.0  \n",
       "..                ...        ...  \n",
       "995               2.0       36.0  \n",
       "996               1.0       44.0  \n",
       "997               4.0       51.0  \n",
       "998               1.0       53.0  \n",
       "999               5.0       40.0  \n",
       "\n",
       "[1000 rows x 9 columns]"
      ]
     },
     "execution_count": 38,
     "metadata": {},
     "output_type": "execute_result"
    }
   ],
   "source": [
    "df.dropna()                    # remove rows with NaN"
   ]
  },
  {
   "cell_type": "code",
   "execution_count": 30,
   "id": "edba5fed",
   "metadata": {},
   "outputs": [
    {
     "data": {
      "text/plain": [
       "np.int64(0)"
      ]
     },
     "execution_count": 30,
     "metadata": {},
     "output_type": "execute_result"
    }
   ],
   "source": [
    "df.duplicated().sum()          # check duplicates"
   ]
  },
  {
   "cell_type": "code",
   "execution_count": 31,
   "id": "3a61abc5",
   "metadata": {},
   "outputs": [],
   "source": [
    "df.drop_duplicates(inplace=True)  # remove duplicates"
   ]
  },
  {
   "cell_type": "code",
   "execution_count": 32,
   "id": "1b99d5b3",
   "metadata": {},
   "outputs": [
    {
     "data": {
      "text/plain": [
       "Department\n",
       "Finance      62483.173077\n",
       "HR           64350.785340\n",
       "IT           59035.502959\n",
       "Marketing    62796.650718\n",
       "Sales        62049.327354\n",
       "Name: Salary, dtype: float64"
      ]
     },
     "execution_count": 32,
     "metadata": {},
     "output_type": "execute_result"
    }
   ],
   "source": [
    "df.groupby('Department')['Salary'].mean()\n"
   ]
  },
  {
   "cell_type": "code",
   "execution_count": 33,
   "id": "a5df5cb9",
   "metadata": {},
   "outputs": [
    {
     "data": {
      "text/html": [
       "<div>\n",
       "<style scoped>\n",
       "    .dataframe tbody tr th:only-of-type {\n",
       "        vertical-align: middle;\n",
       "    }\n",
       "\n",
       "    .dataframe tbody tr th {\n",
       "        vertical-align: top;\n",
       "    }\n",
       "\n",
       "    .dataframe thead th {\n",
       "        text-align: right;\n",
       "    }\n",
       "</style>\n",
       "<table border=\"1\" class=\"dataframe\">\n",
       "  <thead>\n",
       "    <tr style=\"text-align: right;\">\n",
       "      <th></th>\n",
       "      <th>mean</th>\n",
       "      <th>max</th>\n",
       "      <th>min</th>\n",
       "      <th>count</th>\n",
       "    </tr>\n",
       "    <tr>\n",
       "      <th>Department</th>\n",
       "      <th></th>\n",
       "      <th></th>\n",
       "      <th></th>\n",
       "      <th></th>\n",
       "    </tr>\n",
       "  </thead>\n",
       "  <tbody>\n",
       "    <tr>\n",
       "      <th>Finance</th>\n",
       "      <td>62483.173077</td>\n",
       "      <td>99500.0</td>\n",
       "      <td>25000.0</td>\n",
       "      <td>208</td>\n",
       "    </tr>\n",
       "    <tr>\n",
       "      <th>HR</th>\n",
       "      <td>64350.785340</td>\n",
       "      <td>100000.0</td>\n",
       "      <td>0.0</td>\n",
       "      <td>191</td>\n",
       "    </tr>\n",
       "    <tr>\n",
       "      <th>IT</th>\n",
       "      <td>59035.502959</td>\n",
       "      <td>97500.0</td>\n",
       "      <td>25000.0</td>\n",
       "      <td>169</td>\n",
       "    </tr>\n",
       "    <tr>\n",
       "      <th>Marketing</th>\n",
       "      <td>62796.650718</td>\n",
       "      <td>100000.0</td>\n",
       "      <td>0.0</td>\n",
       "      <td>209</td>\n",
       "    </tr>\n",
       "    <tr>\n",
       "      <th>Sales</th>\n",
       "      <td>62049.327354</td>\n",
       "      <td>100000.0</td>\n",
       "      <td>0.0</td>\n",
       "      <td>223</td>\n",
       "    </tr>\n",
       "  </tbody>\n",
       "</table>\n",
       "</div>"
      ],
      "text/plain": [
       "                    mean       max      min  count\n",
       "Department                                        \n",
       "Finance     62483.173077   99500.0  25000.0    208\n",
       "HR          64350.785340  100000.0      0.0    191\n",
       "IT          59035.502959   97500.0  25000.0    169\n",
       "Marketing   62796.650718  100000.0      0.0    209\n",
       "Sales       62049.327354  100000.0      0.0    223"
      ]
     },
     "execution_count": 33,
     "metadata": {},
     "output_type": "execute_result"
    }
   ],
   "source": [
    "df.groupby('Department')['Salary'].agg(['mean','max','min','count'])"
   ]
  },
  {
   "cell_type": "code",
   "execution_count": 34,
   "id": "af91fff8",
   "metadata": {},
   "outputs": [
    {
     "data": {
      "text/plain": [
       "Department  Age\n",
       "Finance     22     63312.500000\n",
       "            23     70833.333333\n",
       "            24     54750.000000\n",
       "            25     69700.000000\n",
       "            26     73700.000000\n",
       "                       ...     \n",
       "Sales       55     40900.000000\n",
       "            56     59142.857143\n",
       "            57     65857.142857\n",
       "            58     59285.714286\n",
       "            59     67000.000000\n",
       "Name: Salary, Length: 188, dtype: float64"
      ]
     },
     "execution_count": 34,
     "metadata": {},
     "output_type": "execute_result"
    }
   ],
   "source": [
    "#group by multiple columns\n",
    "df.groupby(['Department','Age'])['Salary'].mean()\n"
   ]
  },
  {
   "cell_type": "code",
   "execution_count": 35,
   "id": "26a0d961",
   "metadata": {},
   "outputs": [
    {
     "data": {
      "text/plain": [
       "<Axes: ylabel='Frequency'>"
      ]
     },
     "execution_count": 35,
     "metadata": {},
     "output_type": "execute_result"
    },
    {
     "data": {
      "image/png": "[encoded data removed]",
      "text/plain": [
       "<Figure size 640x480 with 1 Axes>"
      ]
     },
     "metadata": {},
     "output_type": "display_data"
    }
   ],
   "source": [
    "df['Salary'].plot(kind='hist')     # histogram\n"
   ]
  },
  {
   "cell_type": "code",
   "execution_count": 36,
   "id": "6481a3b0",
   "metadata": {},
   "outputs": [
    {
     "data": {
      "text/plain": [
       "<Axes: xlabel='Department', ylabel='Salary'>"
      ]
     },
     "execution_count": 36,
     "metadata": {},
     "output_type": "execute_result"
    },
    {
     "data": {
      "image/png": "[encoded data removed]",
      "text/plain": [
       "<Figure size 640x480 with 1 Axes>"
      ]
     },
     "metadata": {},
     "output_type": "display_data"
    }
   ],
   "source": [
    "df.plot(x='Department', y='Salary', kind='scatter')  # scatter plot\n"
   ]
  },
  {
   "cell_type": "code",
   "execution_count": 39,
   "id": "987e6d2d",
   "metadata": {},
   "outputs": [
    {
     "data": {
      "text/plain": [
       "<Axes: >"
      ]
     },
     "execution_count": 39,
     "metadata": {},
     "output_type": "execute_result"
    },
    {
     "data": {
      "image/png": "[encoded data removed]",
      "text/plain": [
       "<Figure size 640x480 with 1 Axes>"
      ]
     },
     "metadata": {},
     "output_type": "display_data"
    }
   ],
   "source": [
    "df['Salary'].plot(kind='box')      # boxplot"
   ]
  },
  {
   "cell_type": "code",
   "execution_count": 41,
   "id": "68041620",
   "metadata": {},
   "outputs": [
    {
     "name": "stdout",
     "output_type": "stream",
     "text": [
      "             EmpID          Age      Salary  PerformanceScore    WorkHours\n",
      "count  1000.000000  1000.000000    1000.000         1000.0000  1000.000000\n",
      "mean    500.500000    40.947000   62226.000            2.4730    43.507000\n",
      "std     288.819436    11.160858   21939.856            1.7246    12.128275\n",
      "min       1.000000    22.000000       0.000            0.0000     0.000000\n",
      "25%     250.750000    31.000000   44000.000            1.0000    37.000000\n",
      "50%     500.500000    42.000000   62500.000            2.0000    44.000000\n",
      "75%     750.250000    50.000000   80500.000            4.0000    52.000000\n",
      "max    1000.000000    59.000000  100000.000            5.0000    60.000000\n"
     ]
    }
   ],
   "source": [
    "print(df.describe())             # summary statistics"
   ]
  },
  {
   "cell_type": "code",
   "execution_count": 43,
   "id": "a46330df",
   "metadata": {},
   "outputs": [
    {
     "name": "stdout",
     "output_type": "stream",
     "text": [
      "   EmpID         Name  Age  Gender Department   Salary JoiningDate  \\\n",
      "0      1   Employee_1   50  Female      Sales  90000.0  2015-01-01   \n",
      "1      2   Employee_2   36    Male    Finance  62500.0  2015-01-02   \n",
      "2      3   Employee_3   29    Male    Finance  39500.0  2015-01-03   \n",
      "3      4   Employee_4   42    Male      Sales  35000.0  2015-01-04   \n",
      "4      5   Employee_5   40    Male    Finance  41500.0  2015-01-05   \n",
      "5      6   Employee_6   44  Female         IT  45000.0  2015-01-06   \n",
      "6      7   Employee_7   32  Female         IT  50000.0  2015-01-07   \n",
      "7      8   Employee_8   32  Female    Finance  65500.0  2015-01-08   \n",
      "8      9   Employee_9   45    Male  Marketing  53500.0  2015-01-09   \n",
      "9     10  Employee_10   57  Female      Sales  62000.0  2015-01-10   \n",
      "\n",
      "   PerformanceScore  WorkHours  \n",
      "0               3.0       43.0  \n",
      "1               2.0       54.0  \n",
      "2               1.0       54.0  \n",
      "3               4.0       37.0  \n",
      "4               4.0       37.0  \n",
      "5               4.0       56.0  \n",
      "6               2.0       59.0  \n",
      "7               0.0       41.0  \n",
      "8               3.0       30.0  \n",
      "9               1.0       40.0  \n"
     ]
    }
   ],
   "source": [
    "print(df.head(10))"
   ]
  },
  {
   "cell_type": "code",
   "execution_count": 44,
   "id": "d8cbb46f",
   "metadata": {},
   "outputs": [
    {
     "data": {
      "text/plain": [
       "EmpID               0\n",
       "Name                0\n",
       "Age                 0\n",
       "Gender              0\n",
       "Department          0\n",
       "Salary              0\n",
       "JoiningDate         0\n",
       "PerformanceScore    0\n",
       "WorkHours           0\n",
       "dtype: int64"
      ]
     },
     "execution_count": 44,
     "metadata": {},
     "output_type": "execute_result"
    }
   ],
   "source": [
    "df.isnull().sum()              # check missing values"
   ]
  }
 ],
 "metadata": {
  "kernelspec": {
   "display_name": "Python 3",
   "language": "python",
   "name": "python3"
  },
  "language_info": {
   "codemirror_mode": {
    "name": "ipython",
    "version": 3
   },
   "file_extension": ".py",
   "mimetype": "text/x-python",
   "name": "python",
   "nbconvert_exporter": "python",
   "pygments_lexer": "ipython3",
   "version": "3.13.1"
  }
 },
 "nbformat": 4,
 "nbformat_minor": 5
}
