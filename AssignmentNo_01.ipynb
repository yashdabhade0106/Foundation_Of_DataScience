{
 "cells": [
  {
   "cell_type": "code",
   "execution_count": 1,
   "id": "744df851",
   "metadata": {},
   "outputs": [],
   "source": [
    "import numpy as np"
   ]
  },
  {
   "cell_type": "code",
   "execution_count": 3,
   "id": "a2432852",
   "metadata": {},
   "outputs": [
    {
     "data": {
      "text/plain": [
       "array([1, 2, 3, 4, 5])"
      ]
     },
     "execution_count": 3,
     "metadata": {},
     "output_type": "execute_result"
    }
   ],
   "source": [
    "array1 = np.array([1, 2, 3, 4, 5])\n",
    "array1"
   ]
  },
  {
   "cell_type": "code",
   "execution_count": 16,
   "id": "c55c5e40",
   "metadata": {},
   "outputs": [
    {
     "data": {
      "text/plain": [
       "dtype('int64')"
      ]
     },
     "execution_count": 16,
     "metadata": {},
     "output_type": "execute_result"
    }
   ],
   "source": [
    "array1.dtype  # Check the data type of the array"
   ]
  },
  {
   "cell_type": "code",
   "execution_count": 6,
   "id": "77c38fcc",
   "metadata": {},
   "outputs": [
    {
     "data": {
      "text/plain": [
       "1"
      ]
     },
     "execution_count": 6,
     "metadata": {},
     "output_type": "execute_result"
    }
   ],
   "source": [
    "array1.ndim  # Check the number of dimensions"
   ]
  },
  {
   "cell_type": "code",
   "execution_count": 18,
   "id": "d2c1eb7b",
   "metadata": {},
   "outputs": [
    {
     "data": {
      "text/plain": [
       "(5,)"
      ]
     },
     "execution_count": 18,
     "metadata": {},
     "output_type": "execute_result"
    }
   ],
   "source": [
    "array1.shape  # This will return the shape of the array"
   ]
  },
  {
   "cell_type": "code",
   "execution_count": 7,
   "id": "7b0f828e",
   "metadata": {},
   "outputs": [
    {
     "data": {
      "text/plain": [
       "5"
      ]
     },
     "execution_count": 7,
     "metadata": {},
     "output_type": "execute_result"
    }
   ],
   "source": [
    "array1.size  # Get the size of the array"
   ]
  },
  {
   "cell_type": "code",
   "execution_count": null,
   "id": "7b919300",
   "metadata": {},
   "outputs": [
    {
     "data": {
      "text/plain": [
       "array([2])"
      ]
     },
     "execution_count": 13,
     "metadata": {},
     "output_type": "execute_result"
    }
   ],
   "source": [
    "array1[[1]] # Access element at index 1"
   ]
  },
  {
   "cell_type": "code",
   "execution_count": 12,
   "id": "ae1ccb7f",
   "metadata": {},
   "outputs": [
    {
     "data": {
      "text/plain": [
       "array([2, 4])"
      ]
     },
     "execution_count": 12,
     "metadata": {},
     "output_type": "execute_result"
    }
   ],
   "source": [
    "array1[[1, 3]]  # Access elements at indices 1 and 3"
   ]
  },
  {
   "cell_type": "code",
   "execution_count": 15,
   "id": "cc4d179b",
   "metadata": {},
   "outputs": [
    {
     "data": {
      "text/plain": [
       "array([5])"
      ]
     },
     "execution_count": 15,
     "metadata": {},
     "output_type": "execute_result"
    }
   ],
   "source": [
    "array1[[-1]] # Access the last element"
   ]
  },
  {
   "cell_type": "code",
   "execution_count": null,
   "id": "8a1a3d2a",
   "metadata": {},
   "outputs": [
    {
     "name": "stdout",
     "output_type": "stream",
     "text": [
      "[[1 2 3]\n",
      " [4 5 6]]\n"
     ]
    },
    {
     "data": {
      "text/plain": [
       "2"
      ]
     },
     "execution_count": 10,
     "metadata": {},
     "output_type": "execute_result"
    }
   ],
   "source": [
    "array2 = np.array([[1,2,3], [4,5,6]])   # Create a 2D array\n",
    "print(array2)\n",
    "array2.ndim"
   ]
  },
  {
   "cell_type": "code",
   "execution_count": 19,
   "id": "92ca341c",
   "metadata": {},
   "outputs": [
    {
     "data": {
      "text/plain": [
       "(2, 3)"
      ]
     },
     "execution_count": 19,
     "metadata": {},
     "output_type": "execute_result"
    }
   ],
   "source": [
    "array2.shape  # Get the shape of the 2D array"
   ]
  },
  {
   "cell_type": "code",
   "execution_count": 17,
   "id": "5f0f0689",
   "metadata": {},
   "outputs": [
    {
     "data": {
      "text/plain": [
       "array([[1, 2],\n",
       "       [3, 4],\n",
       "       [5, 6]])"
      ]
     },
     "execution_count": 17,
     "metadata": {},
     "output_type": "execute_result"
    }
   ],
   "source": [
    "array2.reshape(3, 2)  # Reshape the array to 3 rows and 2 columns"
   ]
  },
  {
   "cell_type": "code",
   "execution_count": 27,
   "id": "8176d8da",
   "metadata": {},
   "outputs": [
    {
     "name": "stdout",
     "output_type": "stream",
     "text": [
      "[ 2  3  4  5  6  7  8  9 10]\n"
     ]
    }
   ],
   "source": [
    "array = np.arange(2,11)  # Create an array with even numbers from 2 to 10\n",
    "print(array2)"
   ]
  },
  {
   "cell_type": "code",
   "execution_count": 28,
   "id": "2cd05b22",
   "metadata": {},
   "outputs": [
    {
     "data": {
      "text/plain": [
       "array([[ 2,  3,  4],\n",
       "       [ 5,  6,  7],\n",
       "       [ 8,  9, 10]])"
      ]
     },
     "execution_count": 28,
     "metadata": {},
     "output_type": "execute_result"
    }
   ],
   "source": [
    "array.reshape(3,3) # Reshape the array to 3 rows and 3 columns"
   ]
  },
  {
   "cell_type": "code",
   "execution_count": 36,
   "id": "674c0296",
   "metadata": {},
   "outputs": [
    {
     "name": "stdout",
     "output_type": "stream",
     "text": [
      "[[1 2 3]\n",
      " [4 5 6]]\n",
      "[[ 7  8  9]\n",
      " [10 11 12]]\n",
      "---------------------\n",
      "[[ 8 10 12]\n",
      " [14 16 18]]  Element-wise addition\n",
      "[[-6 -6 -6]\n",
      " [-6 -6 -6]]  Element-wise subtraction\n",
      "[[0.14285714 0.25       0.33333333]\n",
      " [0.4        0.45454545 0.5       ]]  Element-wise division\n",
      "[[ 7 16 27]\n",
      " [40 55 72]]  Element-wise multiplication\n",
      "[[         1        256      19683]\n",
      " [   1048576   48828125 2176782336]]  Element-wise exponentiation\n"
     ]
    }
   ],
   "source": [
    "a = np.array([[1, 2, 3], [4, 5, 6]])\n",
    "print(a)\n",
    "b = np.array([[7, 8, 9], [10, 11, 12]])\n",
    "print(b)\n",
    "c = a+b  # Element-wise addition\n",
    "d= a-b  # Element-wise subtraction\n",
    "e= a/b  # Element-wise division\n",
    "f= a*b  # Element-wise multiplication\n",
    "g= a**b # Element-wise exponentiation\n",
    "print(\"\"\"---------------------\"\"\")\n",
    "print(c,\" Element-wise addition\")\n",
    "print(d,\" Element-wise subtraction\")\n",
    "print(e,\" Element-wise division\")\n",
    "print(f,\" Element-wise multiplication\")\n",
    "print(g,\" Element-wise exponentiation\")"
   ]
  },
  {
   "cell_type": "code",
   "execution_count": 41,
   "id": "868b9858",
   "metadata": {},
   "outputs": [
    {
     "data": {
      "text/plain": [
       "np.int64(0)"
      ]
     },
     "execution_count": 41,
     "metadata": {},
     "output_type": "execute_result"
    }
   ],
   "source": [
    "array1.argmax()  # Find the index of the maximum element in array1\n",
    "array1.argmin()  # Find the index of the minimum element in array1"
   ]
  },
  {
   "cell_type": "code",
   "execution_count": 45,
   "id": "f18fca87",
   "metadata": {},
   "outputs": [
    {
     "data": {
      "text/plain": [
       "array([0, 1, 2, 3, 5])"
      ]
     },
     "execution_count": 45,
     "metadata": {},
     "output_type": "execute_result"
    }
   ],
   "source": [
    "np.linspace(0, 5 , 5, dtype=int)  # Create an array with 5 evenly spaced numbers between 0 and 5"
   ]
  },
  {
   "cell_type": "code",
   "execution_count": 52,
   "id": "7e8dac02",
   "metadata": {},
   "outputs": [
    {
     "name": "stdout",
     "output_type": "stream",
     "text": [
      "[1 1 1 1]\n",
      "[1 1 1 1 1 1 1 1]\n"
     ]
    }
   ],
   "source": [
    "res = np.diff(array1)  # Calculate the difference between consecutive elements\n",
    "print(res)\n",
    "res2 = np.diff(array2, axis=0)  # Calculate the difference along the first axis (rows)\n",
    "print(res2)"
   ]
  }
 ],
 "metadata": {
  "kernelspec": {
   "display_name": "Python 3",
   "language": "python",
   "name": "python3"
  },
  "language_info": {
   "codemirror_mode": {
    "name": "ipython",
    "version": 3
   },
   "file_extension": ".py",
   "mimetype": "text/x-python",
   "name": "python",
   "nbconvert_exporter": "python",
   "pygments_lexer": "ipython3",
   "version": "3.13.1"
  }
 },
 "nbformat": 4,
 "nbformat_minor": 5
}
