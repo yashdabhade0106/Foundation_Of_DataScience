{
 "cells": [
  {
   "cell_type": "code",
   "execution_count": 1,
   "id": "d1dc0219",
   "metadata": {},
   "outputs": [
    {
     "data": {
      "text/html": [
       "<div>\n",
       "<style scoped>\n",
       "    .dataframe tbody tr th:only-of-type {\n",
       "        vertical-align: middle;\n",
       "    }\n",
       "\n",
       "    .dataframe tbody tr th {\n",
       "        vertical-align: top;\n",
       "    }\n",
       "\n",
       "    .dataframe thead th {\n",
       "        text-align: right;\n",
       "    }\n",
       "</style>\n",
       "<table border=\"1\" class=\"dataframe\">\n",
       "  <thead>\n",
       "    <tr style=\"text-align: right;\">\n",
       "      <th></th>\n",
       "      <th>Name</th>\n",
       "      <th>Gender</th>\n",
       "      <th>Education Level</th>\n",
       "      <th>Age</th>\n",
       "      <th>Height (cm)</th>\n",
       "      <th>Married</th>\n",
       "    </tr>\n",
       "  </thead>\n",
       "  <tbody>\n",
       "    <tr>\n",
       "      <th>0</th>\n",
       "      <td>Alice</td>\n",
       "      <td>Female</td>\n",
       "      <td>Bachelor</td>\n",
       "      <td>25</td>\n",
       "      <td>160.5</td>\n",
       "      <td>No</td>\n",
       "    </tr>\n",
       "    <tr>\n",
       "      <th>1</th>\n",
       "      <td>Bob</td>\n",
       "      <td>Male</td>\n",
       "      <td>Master</td>\n",
       "      <td>30</td>\n",
       "      <td>175.2</td>\n",
       "      <td>Yes</td>\n",
       "    </tr>\n",
       "    <tr>\n",
       "      <th>2</th>\n",
       "      <td>Charlie</td>\n",
       "      <td>Male</td>\n",
       "      <td>PhD</td>\n",
       "      <td>45</td>\n",
       "      <td>168.0</td>\n",
       "      <td>Yes</td>\n",
       "    </tr>\n",
       "    <tr>\n",
       "      <th>3</th>\n",
       "      <td>David</td>\n",
       "      <td>Male</td>\n",
       "      <td>Bachelor</td>\n",
       "      <td>22</td>\n",
       "      <td>180.3</td>\n",
       "      <td>No</td>\n",
       "    </tr>\n",
       "  </tbody>\n",
       "</table>\n",
       "</div>"
      ],
      "text/plain": [
       "      Name  Gender Education Level  Age  Height (cm) Married\n",
       "0    Alice  Female        Bachelor   25        160.5      No\n",
       "1      Bob    Male          Master   30        175.2     Yes\n",
       "2  Charlie    Male             PhD   45        168.0     Yes\n",
       "3    David    Male        Bachelor   22        180.3      No"
      ]
     },
     "execution_count": 1,
     "metadata": {},
     "output_type": "execute_result"
    }
   ],
   "source": [
    "import pandas as pd\n",
    "\n",
    "# Sample dataset with qualitative and quantitative data types\n",
    "data = {\n",
    "    'Name': ['Alice', 'Bob', 'Charlie', 'David'],\n",
    "    'Gender': ['Female', 'Male', 'Male', 'Male'],\n",
    "    'Education Level': ['Bachelor', 'Master', 'PhD', 'Bachelor'],\n",
    "    'Age': [25, 30, 45, 22],\n",
    "    'Height (cm)': [160.5, 175.2, 168.0, 180.3],\n",
    "    'Married': ['No', 'Yes', 'Yes', 'No'],\n",
    "}\n",
    "\n",
    "df = pd.DataFrame(data)\n",
    "df"
   ]
  },
  {
   "cell_type": "markdown",
   "id": "35b45cae",
   "metadata": {},
   "source": [
    "### Data Types Classification\n",
    "\n",
    "We classify the data into **qualitative** and **quantitative** as follows:\n",
    "\n",
    "| Column           | Type                    | Explanation                                     |\n",
    "|------------------|--------------------------|-------------------------------------------------|\n",
    "| Name             | Qualitative - Nominal    | Just labels (names)                             |\n",
    "| Gender           | Qualitative - Nominal    | Categories with no order                        |\n",
    "| Education Level  | Qualitative - Ordinal    | Ordered categories (Bachelor < Master < PhD)   |\n",
    "| Age              | Quantitative - Discrete  | Countable integers                              |\n",
    "| Height (cm)      | Quantitative - Continuous| Measurable, can include decimals                |\n",
    "| Married          | Qualitative - Nominal    | Binary category (Yes/No)                        |\n"
   ]
  },
  {
   "cell_type": "code",
   "execution_count": 2,
   "id": "2c72ab44",
   "metadata": {},
   "outputs": [
    {
     "name": "stdout",
     "output_type": "stream",
     "text": [
      "Name: Qualitative - Nominal\n",
      "Gender: Qualitative - Nominal\n",
      "Education Level: Qualitative - Ordinal\n",
      "Age: Quantitative - Discrete\n",
      "Height (cm): Quantitative - Continuous\n",
      "Married: Qualitative - Nominal\n"
     ]
    }
   ],
   "source": [
    "column_types = {\n",
    "    'Name': 'Qualitative - Nominal',\n",
    "    'Gender': 'Qualitative - Nominal',\n",
    "    'Education Level': 'Qualitative - Ordinal',\n",
    "    'Age': 'Quantitative - Discrete',\n",
    "    'Height (cm)': 'Quantitative - Continuous',\n",
    "    'Married': 'Qualitative - Nominal',\n",
    "}\n",
    "\n",
    "for col, dtype in column_types.items():\n",
    "    print(f\"{col}: {dtype}\")"
   ]
  },
  {
   "cell_type": "code",
   "execution_count": 3,
   "id": "f23e8966",
   "metadata": {},
   "outputs": [
    {
     "data": {
      "text/plain": [
       "Name                object\n",
       "Gender              object\n",
       "Education Level     object\n",
       "Age                  int64\n",
       "Height (cm)        float64\n",
       "Married             object\n",
       "dtype: object"
      ]
     },
     "execution_count": 3,
     "metadata": {},
     "output_type": "execute_result"
    }
   ],
   "source": [
    "# Pandas inferred data types\n",
    "df.dtypes"
   ]
  }
 ],
 "metadata": {
  "kernelspec": {
   "display_name": "Python 3",
   "language": "python",
   "name": "python3"
  },
  "language_info": {
   "codemirror_mode": {
    "name": "ipython",
    "version": 3
   },
   "file_extension": ".py",
   "mimetype": "text/x-python",
   "name": "python",
   "nbconvert_exporter": "python",
   "pygments_lexer": "ipython3",
   "version": "3.13.1"
  }
 },
 "nbformat": 4,
 "nbformat_minor": 5
}
